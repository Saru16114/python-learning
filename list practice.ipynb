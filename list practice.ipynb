{
 "cells": [
  {
   "cell_type": "markdown",
   "metadata": {},
   "source": [
    "# To create empty list"
   ]
  },
  {
   "cell_type": "code",
   "execution_count": 2,
   "metadata": {},
   "outputs": [
    {
     "data": {
      "text/plain": [
       "[]"
      ]
     },
     "execution_count": 2,
     "metadata": {},
     "output_type": "execute_result"
    }
   ],
   "source": [
    "L=[]\n",
    "L"
   ]
  },
  {
   "cell_type": "code",
   "execution_count": 3,
   "metadata": {},
   "outputs": [
    {
     "data": {
      "text/plain": [
       "[1, 2, 3, 4, 5, 6, 7, 35, 77, 535, 78, 64, 26, 85, 365, 85]"
      ]
     },
     "execution_count": 3,
     "metadata": {},
     "output_type": "execute_result"
    }
   ],
   "source": [
    "L=[1,2,3,4,5,6,7,35,77,535,78,64,26,85,365,85]\n",
    "L"
   ]
  },
  {
   "cell_type": "code",
   "execution_count": 8,
   "metadata": {},
   "outputs": [
    {
     "data": {
      "text/plain": [
       "3"
      ]
     },
     "execution_count": 8,
     "metadata": {},
     "output_type": "execute_result"
    }
   ],
   "source": [
    "L[2]"
   ]
  },
  {
   "cell_type": "code",
   "execution_count": 9,
   "metadata": {},
   "outputs": [
    {
     "data": {
      "text/plain": [
       "85"
      ]
     },
     "execution_count": 9,
     "metadata": {},
     "output_type": "execute_result"
    }
   ],
   "source": [
    "L[-1]"
   ]
  },
  {
   "cell_type": "code",
   "execution_count": 14,
   "metadata": {},
   "outputs": [
    {
     "data": {
      "text/plain": [
       "[2, 3, 5, 8, 13, 23, 23, 35, 52, 62, 74, 135, 325, 435, 768, 6976654]"
      ]
     },
     "execution_count": 14,
     "metadata": {},
     "output_type": "execute_result"
    }
   ],
   "source": [
    "A=[435,3,52,13,23,5,62,2,8,35,768,325,6976654,23,74,135]\n",
    "A.sort()\n",
    "A"
   ]
  },
  {
   "cell_type": "code",
   "execution_count": 17,
   "metadata": {},
   "outputs": [
    {
     "data": {
      "text/plain": [
       "[6976654, 768, 435, 325, 135, 74, 62, 52, 35, 23, 23, 13, 8, 5, 3, 2]"
      ]
     },
     "execution_count": 17,
     "metadata": {},
     "output_type": "execute_result"
    }
   ],
   "source": [
    "A.reverse()\n",
    "A"
   ]
  },
  {
   "cell_type": "code",
   "execution_count": 19,
   "metadata": {},
   "outputs": [
    {
     "data": {
      "text/plain": [
       "[6976654, 768, 435, 325, 135, 74, 62, 52, 35, 23, 23, 13, 8, 5, 3, 2, 45, 45]"
      ]
     },
     "execution_count": 19,
     "metadata": {},
     "output_type": "execute_result"
    }
   ],
   "source": [
    "A.append(45)\n",
    "A"
   ]
  },
  {
   "cell_type": "code",
   "execution_count": 20,
   "metadata": {},
   "outputs": [
    {
     "data": {
      "text/plain": [
       "18"
      ]
     },
     "execution_count": 20,
     "metadata": {},
     "output_type": "execute_result"
    }
   ],
   "source": [
    "len(A)"
   ]
  },
  {
   "cell_type": "code",
   "execution_count": 21,
   "metadata": {},
   "outputs": [
    {
     "data": {
      "text/plain": [
       "6978707"
      ]
     },
     "execution_count": 21,
     "metadata": {},
     "output_type": "execute_result"
    }
   ],
   "source": [
    "sum(A)"
   ]
  },
  {
   "cell_type": "code",
   "execution_count": 22,
   "metadata": {},
   "outputs": [
    {
     "data": {
      "text/plain": [
       "2"
      ]
     },
     "execution_count": 22,
     "metadata": {},
     "output_type": "execute_result"
    }
   ],
   "source": [
    "min(A)"
   ]
  },
  {
   "cell_type": "code",
   "execution_count": 23,
   "metadata": {},
   "outputs": [
    {
     "data": {
      "text/plain": [
       "6976654"
      ]
     },
     "execution_count": 23,
     "metadata": {},
     "output_type": "execute_result"
    }
   ],
   "source": [
    "max(A)"
   ]
  },
  {
   "cell_type": "code",
   "execution_count": 24,
   "metadata": {},
   "outputs": [
    {
     "data": {
      "text/plain": [
       "(2, 6976654)"
      ]
     },
     "execution_count": 24,
     "metadata": {},
     "output_type": "execute_result"
    }
   ],
   "source": [
    "min(A),max(A)"
   ]
  },
  {
   "cell_type": "code",
   "execution_count": 25,
   "metadata": {},
   "outputs": [
    {
     "data": {
      "text/plain": [
       "387705.94444444444"
      ]
     },
     "execution_count": 25,
     "metadata": {},
     "output_type": "execute_result"
    }
   ],
   "source": [
    "sum(A)/len(A)"
   ]
  },
  {
   "cell_type": "code",
   "execution_count": 29,
   "metadata": {},
   "outputs": [
    {
     "name": "stdout",
     "output_type": "stream",
     "text": [
      "[6976654, 768, 435, 325, 54, 54, 54, 54, 135, 74, 62, 52, 35, 23, 23, 13, 8, 5, 3, 2, 45, 45]\n"
     ]
    }
   ],
   "source": [
    "A.insert(4,54)\n",
    "print(A)"
   ]
  },
  {
   "cell_type": "code",
   "execution_count": 31,
   "metadata": {},
   "outputs": [
    {
     "name": "stdout",
     "output_type": "stream",
     "text": [
      "[6976654, 768, 435, 325, 54, 'saru', 'saru', 54, 54, 54, 135, 74, 62, 52, 35, 23, 23, 13, 8, 5, 3, 2, 45, 45]\n"
     ]
    }
   ],
   "source": [
    "A.insert(5,\"saru\")\n",
    "print(A)"
   ]
  },
  {
   "cell_type": "code",
   "execution_count": 32,
   "metadata": {},
   "outputs": [
    {
     "data": {
      "text/plain": [
       "24"
      ]
     },
     "execution_count": 32,
     "metadata": {},
     "output_type": "execute_result"
    }
   ],
   "source": [
    "len(A)"
   ]
  },
  {
   "cell_type": "code",
   "execution_count": 34,
   "metadata": {},
   "outputs": [
    {
     "name": "stdout",
     "output_type": "stream",
     "text": [
      "[6976654, 768, 435, 325, 54, 'saru', 'saru', 'krishna', 'krishna', 54, 54, 54, 135, 74, 62, 52, 35, 23, 23, 13, 8, 5, 3, 2, 45, 45]\n"
     ]
    }
   ],
   "source": [
    "A.insert(7,\"krishna\")\n",
    "print(A)"
   ]
  },
  {
   "cell_type": "code",
   "execution_count": 6,
   "metadata": {},
   "outputs": [
    {
     "data": {
      "text/plain": [
       "[2, 13, 32, 33, 35, 58, 75, 243, 335, 454, 586, 784, 965, 3657, 4773]"
      ]
     },
     "execution_count": 6,
     "metadata": {},
     "output_type": "execute_result"
    }
   ],
   "source": [
    "Z=[33,2,13,454,75,32,243,35,586,784,335,965,4773,3657,58]\n",
    "Z.sort()\n",
    "Z"
   ]
  },
  {
   "cell_type": "code",
   "execution_count": 7,
   "metadata": {},
   "outputs": [
    {
     "data": {
      "text/plain": [
       "[4773, 3657, 965, 784, 586, 454, 335, 243, 75, 58, 35, 33, 32, 13, 2]"
      ]
     },
     "execution_count": 7,
     "metadata": {},
     "output_type": "execute_result"
    }
   ],
   "source": [
    "Z.reverse()\n",
    "Z"
   ]
  },
  {
   "cell_type": "markdown",
   "metadata": {},
   "source": [
    "#"
   ]
  },
  {
   "cell_type": "code",
   "execution_count": 6,
   "metadata": {},
   "outputs": [
    {
     "data": {
      "text/plain": [
       "96"
      ]
     },
     "execution_count": 6,
     "metadata": {},
     "output_type": "execute_result"
    }
   ],
   "source": [
    "P=[[1,2,3],[4,5,6],[8,78,575,7584],[7,87,46,96,2134,976,465,],[65,90,356,23,785],[875,436,26,85,456,867]]\n",
    "P[3][3]"
   ]
  },
  {
   "cell_type": "code",
   "execution_count": 7,
   "metadata": {},
   "outputs": [
    {
     "data": {
      "text/plain": [
       "456"
      ]
     },
     "execution_count": 7,
     "metadata": {},
     "output_type": "execute_result"
    }
   ],
   "source": [
    "P[5][4]"
   ]
  },
  {
   "cell_type": "code",
   "execution_count": 1,
   "metadata": {},
   "outputs": [
    {
     "name": "stdout",
     "output_type": "stream",
     "text": [
      "[0, 1, 2, 3, 4, 5, 6, 7, 8, 9, 10, 11, 12, 13, 14, 15, 16, 17, 18, 19, 20, 21, 22, 23, 24, 25, 26, 27, 28, 29, 30, 31, 32, 33, 34, 35, 36, 37, 38, 39, 40, 41, 42, 43, 44, 45, 46, 47, 48, 49, 50, 51, 52, 53, 54, 55, 56, 57, 58, 59, 60, 61, 62, 63, 64, 65, 66, 67, 68, 69, 70, 71, 72, 73, 74, 75, 76, 77, 78, 79, 80, 81, 82, 83, 84, 85, 86, 87, 88, 89, 90, 91, 92, 93, 94, 95, 96, 97, 98, 99]\n"
     ]
    }
   ],
   "source": [
    "L= [x for x in range(100)]\n",
    "print(L)"
   ]
  },
  {
   "cell_type": "code",
   "execution_count": 2,
   "metadata": {},
   "outputs": [
    {
     "name": "stdout",
     "output_type": "stream",
     "text": [
      "[0, 3, 6, 9, 12, 15, 18, 21, 24, 27, 30, 33, 36, 39, 42, 45, 48, 51, 54, 57, 60, 63, 66, 69, 72, 75, 78, 81, 84, 87, 90, 93, 96, 99]\n"
     ]
    }
   ],
   "source": [
    "L = [x for x in range(100) if x%3==0]\n",
    "print(L)"
   ]
  },
  {
   "cell_type": "code",
   "execution_count": 3,
   "metadata": {},
   "outputs": [
    {
     "data": {
      "text/plain": [
       "1"
      ]
     },
     "execution_count": 3,
     "metadata": {},
     "output_type": "execute_result"
    }
   ],
   "source": [
    "import random as rn\n",
    "rn.randint(0,100)"
   ]
  },
  {
   "cell_type": "code",
   "execution_count": 4,
   "metadata": {},
   "outputs": [
    {
     "data": {
      "text/plain": [
       "46"
      ]
     },
     "execution_count": 4,
     "metadata": {},
     "output_type": "execute_result"
    }
   ],
   "source": [
    "import random as rn\n",
    "rn.randint(0,100)"
   ]
  },
  {
   "cell_type": "code",
   "execution_count": 5,
   "metadata": {},
   "outputs": [
    {
     "data": {
      "text/plain": [
       "16"
      ]
     },
     "execution_count": 5,
     "metadata": {},
     "output_type": "execute_result"
    }
   ],
   "source": [
    "import random as rn\n",
    "rn.randint(0,100)"
   ]
  },
  {
   "cell_type": "code",
   "execution_count": 6,
   "metadata": {},
   "outputs": [
    {
     "name": "stdout",
     "output_type": "stream",
     "text": [
      "[3, 2, 4, 3, 1, 2, 4, 0, 3, 1, 0, 5, 4, 2, 5, 3, 4, 1, 1, 1, 1, 4, 4, 1, 1, 5, 3, 1, 4, 5, 1, 3, 4, 2, 4, 1, 4, 1, 0, 3, 1, 5, 4, 3, 2, 1, 4, 4, 2, 3, 2, 5, 4, 4, 1, 4, 4, 5, 0, 0, 3, 3, 2, 1, 3, 3, 3, 5, 3, 1, 0, 0, 2, 1, 2, 2, 1, 2, 0, 0, 3, 3, 1, 4, 2, 5, 5, 3, 4, 0, 1, 1, 3, 4, 0, 5, 0, 4, 0, 5, 0, 4, 2, 3, 2, 1, 1, 1, 5, 1, 4, 3, 1, 2, 5, 4, 1, 2, 2, 1, 4, 2, 1, 0, 0, 4, 2, 1, 0, 2, 4, 4, 1, 0, 2, 3, 1, 1, 1, 4, 2, 0, 5, 0, 4, 5, 5, 1, 2, 4, 0, 1, 3, 3, 3, 2, 2, 2, 0, 5, 4, 0, 1, 3, 5, 4, 5, 1, 2, 0, 4, 3, 0, 4, 4, 1, 5, 5, 2, 3, 3, 0, 2, 1, 0, 5, 5, 4, 0, 4, 3, 5, 5, 0, 0, 3, 5, 4, 1, 4]\n"
     ]
    }
   ],
   "source": [
    "import random as rn\n",
    "R = [rn.randint(0,5) for k in range(200)]\n",
    "print(R)"
   ]
  },
  {
   "cell_type": "code",
   "execution_count": 7,
   "metadata": {},
   "outputs": [
    {
     "name": "stdout",
     "output_type": "stream",
     "text": [
      "[1, 3, 4, 1, 0, 1, 2, 4, 5, 5, 2, 2, 5, 2, 5, 3, 0, 0, 5, 3]\n"
     ]
    }
   ],
   "source": [
    "import random as rn\n",
    "R = [rn.randint(0,5) for k in range(20)]\n",
    "print(R)"
   ]
  },
  {
   "cell_type": "code",
   "execution_count": 1,
   "metadata": {},
   "outputs": [
    {
     "name": "stdout",
     "output_type": "stream",
     "text": [
      "[11, 13, 19, 7, 7, 31, 30, 24, 41, 44, 37, 3, 22, 33, 44, 42, 24, 4, 30, 43, 30, 13, 18, 11, 9, 0, 19, 18, 19, 26, 38, 41, 50, 8, 33, 35, 33, 21, 41, 7, 10, 24, 43, 46, 11, 29, 35, 15, 40, 1, 50, 29, 30, 14, 10, 37, 13, 30, 44, 22, 20, 50, 41, 24, 7, 4, 0, 13, 37, 22, 30, 50, 11, 8, 27, 17, 36, 35, 35, 38, 31, 37, 4, 13, 2, 6, 0, 41, 13, 44, 18, 21, 1, 14, 43, 27, 14, 47, 1, 0, 20, 28, 16, 43, 32, 41, 11, 4, 22, 10, 5, 27, 22, 39, 20, 43, 34, 40, 34, 37, 49, 4, 14, 12, 35, 41, 43, 36, 50, 1, 22, 16, 20, 44, 36, 8, 26, 38, 15, 34, 7, 50, 35, 27, 44, 29, 29, 23, 2, 48, 21, 28, 34, 20, 35, 11, 4, 41, 13, 11, 3, 2, 19, 35, 31, 19, 48, 12, 36, 31, 47, 6, 4, 3, 31, 39, 33, 35, 44, 45, 44, 44, 33, 40, 48, 31, 47, 3, 2, 13, 24, 47, 20, 33, 5, 36, 33, 34, 3, 32]\n"
     ]
    }
   ],
   "source": [
    "import random as rn\n",
    "R = [rn.randint(0,50) for k in range(200)]\n",
    "print(R)"
   ]
  },
  {
   "cell_type": "code",
   "execution_count": 3,
   "metadata": {},
   "outputs": [
    {
     "name": "stdout",
     "output_type": "stream",
     "text": [
      "[[1, 2, 3], [4, 5, 6], [8, 78, 575, 7584], [7, 87, 46, 96, 2134, 976, 465], [65, 90, 356, 23, 785], [875, 436, 26, 85, 456, 867]]\n"
     ]
    }
   ],
   "source": [
    "P=[[1,2,3],[4,5,6],[8,78,575,7584],[7,87,46,96,2134,976,465,],[65,90,356,23,785],[875,436,26,85,456,867]]\n",
    "print(P)"
   ]
  },
  {
   "cell_type": "code",
   "execution_count": null,
   "metadata": {},
   "outputs": [],
   "source": []
  }
 ],
 "metadata": {
  "kernelspec": {
   "display_name": "Python 3",
   "language": "python",
   "name": "python3"
  },
  "language_info": {
   "codemirror_mode": {
    "name": "ipython",
    "version": 3
   },
   "file_extension": ".py",
   "mimetype": "text/x-python",
   "name": "python",
   "nbconvert_exporter": "python",
   "pygments_lexer": "ipython3",
   "version": "3.8.3"
  }
 },
 "nbformat": 4,
 "nbformat_minor": 4
}
